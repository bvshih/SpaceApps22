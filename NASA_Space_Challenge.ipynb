{
  "nbformat": 4,
  "nbformat_minor": 0,
  "metadata": {
    "colab": {
      "provenance": [],
      "collapsed_sections": [],
      "toc_visible": true,
      "include_colab_link": true
    },
    "kernelspec": {
      "name": "python3",
      "display_name": "Python 3"
    },
    "language_info": {
      "name": "python"
    }
  },
  "cells": [
    {
      "cell_type": "markdown",
      "metadata": {
        "id": "view-in-github",
        "colab_type": "text"
      },
      "source": [
        "<a href=\"https://colab.research.google.com/github/bvshih/SpaceApps22/blob/main/NASA_Space_Challenge.ipynb\" target=\"_parent\"><img src=\"https://colab.research.google.com/assets/colab-badge.svg\" alt=\"Open In Colab\"/></a>"
      ]
    },
    {
      "cell_type": "code",
      "execution_count": null,
      "metadata": {
        "id": "iGNvueIVtqXi",
        "colab": {
          "base_uri": "https://localhost:8080/"
        },
        "outputId": "d61be756-5657-459b-faba-65ac9e7f7fb6"
      },
      "outputs": [
        {
          "output_type": "stream",
          "name": "stdout",
          "text": [
            "Looking in indexes: https://pypi.org/simple, https://us-python.pkg.dev/colab-wheels/public/simple/\n",
            "Requirement already satisfied: astropy in /usr/local/lib/python3.7/dist-packages (4.3.1)\n",
            "Requirement already satisfied: importlib-metadata in /usr/local/lib/python3.7/dist-packages (from astropy) (4.12.0)\n",
            "Requirement already satisfied: numpy>=1.17 in /usr/local/lib/python3.7/dist-packages (from astropy) (1.21.6)\n",
            "Requirement already satisfied: pyerfa>=1.7.3 in /usr/local/lib/python3.7/dist-packages (from astropy) (2.0.0.1)\n",
            "Requirement already satisfied: zipp>=0.5 in /usr/local/lib/python3.7/dist-packages (from importlib-metadata->astropy) (3.8.1)\n",
            "Requirement already satisfied: typing-extensions>=3.6.4 in /usr/local/lib/python3.7/dist-packages (from importlib-metadata->astropy) (4.1.1)\n",
            "Looking in indexes: https://pypi.org/simple, https://us-python.pkg.dev/colab-wheels/public/simple/\n",
            "Requirement already satisfied: astroquery in /usr/local/lib/python3.7/dist-packages (0.4.6)\n",
            "Requirement already satisfied: html5lib>=0.999 in /usr/local/lib/python3.7/dist-packages (from astroquery) (1.0.1)\n",
            "Requirement already satisfied: numpy>=1.16 in /usr/local/lib/python3.7/dist-packages (from astroquery) (1.21.6)\n",
            "Requirement already satisfied: beautifulsoup4>=4.3.2 in /usr/local/lib/python3.7/dist-packages (from astroquery) (4.6.3)\n",
            "Requirement already satisfied: requests>=2.4.3 in /usr/local/lib/python3.7/dist-packages (from astroquery) (2.23.0)\n",
            "Requirement already satisfied: keyring>=4.0 in /usr/local/lib/python3.7/dist-packages (from astroquery) (23.9.3)\n",
            "Requirement already satisfied: pyvo>=1.1 in /usr/local/lib/python3.7/dist-packages (from astroquery) (1.2.1)\n",
            "Requirement already satisfied: astropy>=4.0 in /usr/local/lib/python3.7/dist-packages (from astroquery) (4.3.1)\n",
            "Requirement already satisfied: pyerfa>=1.7.3 in /usr/local/lib/python3.7/dist-packages (from astropy>=4.0->astroquery) (2.0.0.1)\n",
            "Requirement already satisfied: importlib-metadata in /usr/local/lib/python3.7/dist-packages (from astropy>=4.0->astroquery) (4.12.0)\n",
            "Requirement already satisfied: six>=1.9 in /usr/local/lib/python3.7/dist-packages (from html5lib>=0.999->astroquery) (1.15.0)\n",
            "Requirement already satisfied: webencodings in /usr/local/lib/python3.7/dist-packages (from html5lib>=0.999->astroquery) (0.5.1)\n",
            "Requirement already satisfied: jeepney>=0.4.2 in /usr/local/lib/python3.7/dist-packages (from keyring>=4.0->astroquery) (0.8.0)\n",
            "Requirement already satisfied: SecretStorage>=3.2 in /usr/local/lib/python3.7/dist-packages (from keyring>=4.0->astroquery) (3.3.3)\n",
            "Requirement already satisfied: jaraco.classes in /usr/local/lib/python3.7/dist-packages (from keyring>=4.0->astroquery) (3.2.3)\n",
            "Requirement already satisfied: typing-extensions>=3.6.4 in /usr/local/lib/python3.7/dist-packages (from importlib-metadata->astropy>=4.0->astroquery) (4.1.1)\n",
            "Requirement already satisfied: zipp>=0.5 in /usr/local/lib/python3.7/dist-packages (from importlib-metadata->astropy>=4.0->astroquery) (3.8.1)\n",
            "Collecting urllib3!=1.25.0,!=1.25.1,<1.26,>=1.21.1\n",
            "  Downloading urllib3-1.25.11-py2.py3-none-any.whl (127 kB)\n",
            "\u001b[K     |████████████████████████████████| 127 kB 5.1 MB/s \n",
            "\u001b[?25hRequirement already satisfied: idna<3,>=2.5 in /usr/local/lib/python3.7/dist-packages (from requests>=2.4.3->astroquery) (2.10)\n",
            "Requirement already satisfied: certifi>=2017.4.17 in /usr/local/lib/python3.7/dist-packages (from requests>=2.4.3->astroquery) (2022.6.15)\n",
            "Requirement already satisfied: chardet<4,>=3.0.2 in /usr/local/lib/python3.7/dist-packages (from requests>=2.4.3->astroquery) (3.0.4)\n",
            "Requirement already satisfied: cryptography>=2.0 in /usr/local/lib/python3.7/dist-packages (from SecretStorage>=3.2->keyring>=4.0->astroquery) (38.0.1)\n",
            "Requirement already satisfied: cffi>=1.12 in /usr/local/lib/python3.7/dist-packages (from cryptography>=2.0->SecretStorage>=3.2->keyring>=4.0->astroquery) (1.15.1)\n",
            "Requirement already satisfied: pycparser in /usr/local/lib/python3.7/dist-packages (from cffi>=1.12->cryptography>=2.0->SecretStorage>=3.2->keyring>=4.0->astroquery) (2.21)\n",
            "Requirement already satisfied: more-itertools in /usr/local/lib/python3.7/dist-packages (from jaraco.classes->keyring>=4.0->astroquery) (8.14.0)\n",
            "Installing collected packages: urllib3\n",
            "  Attempting uninstall: urllib3\n",
            "    Found existing installation: urllib3 1.26.12\n",
            "    Uninstalling urllib3-1.26.12:\n",
            "      Successfully uninstalled urllib3-1.26.12\n",
            "Successfully installed urllib3-1.25.11\n",
            "\u001b[33mWARNING: Requirement 'PDS4_tools-1.3.zip' looks like a filename, but the file does not exist\u001b[0m\n",
            "Looking in indexes: https://pypi.org/simple, https://us-python.pkg.dev/colab-wheels/public/simple/\n",
            "Processing ./PDS4_tools-1.3.zip\n",
            "\u001b[31mERROR: Could not install packages due to an OSError: [Errno 2] No such file or directory: '/content/PDS4_tools-1.3.zip'\n",
            "\u001b[0m\n",
            "Looking in indexes: https://pypi.org/simple, https://us-python.pkg.dev/colab-wheels/public/simple/\n",
            "Requirement already satisfied: Pillow in /usr/local/lib/python3.7/dist-packages (7.1.2)\n",
            "Looking in indexes: https://pypi.org/simple, https://us-python.pkg.dev/colab-wheels/public/simple/\n",
            "Requirement already satisfied: httpx in /usr/local/lib/python3.7/dist-packages (0.23.0)\n",
            "Requirement already satisfied: certifi in /usr/local/lib/python3.7/dist-packages (from httpx) (2022.6.15)\n",
            "Requirement already satisfied: sniffio in /usr/local/lib/python3.7/dist-packages (from httpx) (1.3.0)\n",
            "Requirement already satisfied: httpcore<0.16.0,>=0.15.0 in /usr/local/lib/python3.7/dist-packages (from httpx) (0.15.0)\n",
            "Requirement already satisfied: rfc3986[idna2008]<2,>=1.3 in /usr/local/lib/python3.7/dist-packages (from httpx) (1.5.0)\n",
            "Requirement already satisfied: anyio==3.* in /usr/local/lib/python3.7/dist-packages (from httpcore<0.16.0,>=0.15.0->httpx) (3.6.1)\n",
            "Requirement already satisfied: h11<0.13,>=0.11 in /usr/local/lib/python3.7/dist-packages (from httpcore<0.16.0,>=0.15.0->httpx) (0.12.0)\n",
            "Requirement already satisfied: typing-extensions in /usr/local/lib/python3.7/dist-packages (from anyio==3.*->httpcore<0.16.0,>=0.15.0->httpx) (4.1.1)\n",
            "Requirement already satisfied: idna>=2.8 in /usr/local/lib/python3.7/dist-packages (from anyio==3.*->httpcore<0.16.0,>=0.15.0->httpx) (2.10)\n",
            "Looking in indexes: https://pypi.org/simple, https://us-python.pkg.dev/colab-wheels/public/simple/\n",
            "Requirement already satisfied: rich in /usr/local/lib/python3.7/dist-packages (12.5.1)\n",
            "Requirement already satisfied: commonmark<0.10.0,>=0.9.0 in /usr/local/lib/python3.7/dist-packages (from rich) (0.9.1)\n",
            "Requirement already satisfied: pygments<3.0.0,>=2.6.0 in /usr/local/lib/python3.7/dist-packages (from rich) (2.6.1)\n",
            "Requirement already satisfied: typing-extensions<5.0,>=4.0.0 in /usr/local/lib/python3.7/dist-packages (from rich) (4.1.1)\n",
            "Looking in indexes: https://pypi.org/simple, https://us-python.pkg.dev/colab-wheels/public/simple/\n",
            "\u001b[31mERROR: Could not find a version that satisfies the requirement pds (from versions: none)\u001b[0m\n",
            "\u001b[31mERROR: No matching distribution found for pds\u001b[0m\n"
          ]
        }
      ],
      "source": [
        "!pip install astropy\n",
        "!pip install astroquery\n",
        "!pip install PDS4_tools-1.3.zip\n",
        "!pip install Pillow\n",
        "!pip install httpx\n",
        "!pip install rich\n",
        "!pip install pds"
      ]
    },
    {
      "cell_type": "markdown",
      "source": [
        "# New Section"
      ],
      "metadata": {
        "id": "inhUqMcTvf5m"
      }
    },
    {
      "cell_type": "code",
      "source": [
        "import numpy as np\n",
        "import matplotlib\n",
        "from PIL import Image\n",
        "import httpx\n",
        "from rich import print\n",
        "import pds_api\n",
        "import pds.api_client as pds_api"
      ],
      "metadata": {
        "id": "aHjWbtH40Vun",
        "colab": {
          "base_uri": "https://localhost:8080/",
          "height": 384
        },
        "outputId": "00b82292-10e8-4de6-9105-7dd9324e5a93"
      },
      "execution_count": null,
      "outputs": [
        {
          "output_type": "error",
          "ename": "ModuleNotFoundError",
          "evalue": "ignored",
          "traceback": [
            "\u001b[0;31m---------------------------------------------------------------------------\u001b[0m",
            "\u001b[0;31mModuleNotFoundError\u001b[0m                       Traceback (most recent call last)",
            "\u001b[0;32m<ipython-input-1-64b8b14a4ca7>\u001b[0m in \u001b[0;36m<module>\u001b[0;34m\u001b[0m\n\u001b[1;32m      2\u001b[0m \u001b[0;32mimport\u001b[0m \u001b[0mmatplotlib\u001b[0m\u001b[0;34m\u001b[0m\u001b[0;34m\u001b[0m\u001b[0m\n\u001b[1;32m      3\u001b[0m \u001b[0;32mfrom\u001b[0m \u001b[0mPIL\u001b[0m \u001b[0;32mimport\u001b[0m \u001b[0mImage\u001b[0m\u001b[0;34m\u001b[0m\u001b[0;34m\u001b[0m\u001b[0m\n\u001b[0;32m----> 4\u001b[0;31m \u001b[0;32mimport\u001b[0m \u001b[0mhttpx\u001b[0m\u001b[0;34m\u001b[0m\u001b[0;34m\u001b[0m\u001b[0m\n\u001b[0m\u001b[1;32m      5\u001b[0m \u001b[0;32mfrom\u001b[0m \u001b[0mrich\u001b[0m \u001b[0;32mimport\u001b[0m \u001b[0mprint\u001b[0m\u001b[0;34m\u001b[0m\u001b[0;34m\u001b[0m\u001b[0m\n\u001b[1;32m      6\u001b[0m \u001b[0;32mimport\u001b[0m \u001b[0mpds_api\u001b[0m\u001b[0;34m\u001b[0m\u001b[0;34m\u001b[0m\u001b[0m\n",
            "\u001b[0;31mModuleNotFoundError\u001b[0m: No module named 'httpx'",
            "",
            "\u001b[0;31m---------------------------------------------------------------------------\u001b[0;32m\nNOTE: If your import is failing due to a missing package, you can\nmanually install dependencies using either !pip or !apt.\n\nTo view examples of installing some common dependencies, click the\n\"Open Examples\" button below.\n\u001b[0;31m---------------------------------------------------------------------------\u001b[0m\n"
          ],
          "errorDetails": {
            "actions": [
              {
                "action": "open_url",
                "actionText": "Open Examples",
                "url": "/notebooks/snippets/importing_libraries.ipynb"
              }
            ]
          }
        }
      ]
    },
    {
      "cell_type": "markdown",
      "source": [
        "## Loading LBL files from URL"
      ],
      "metadata": {
        "id": "Vie3HvrD5MSN"
      }
    },
    {
      "cell_type": "code",
      "source": [
        "# load file from PDS\n",
        "\n",
        "\n",
        "def load_lbl_file(file_url: str):\n",
        "    res = httpx.get(file_url)\n",
        "    output = {}\n",
        "    file_text = res.text\n",
        "    for line in file_text.split('\\n'):\n",
        "        line = line.strip()\n",
        "        if line == '':\n",
        "            continue\n",
        "        elif line.strip()[0] == \"/\":\n",
        "            continue\n",
        "        elif line == 'END':\n",
        "            break\n",
        "        key, val = line.strip().split('=')\n",
        "        output[key.strip()] = val.strip()\n",
        "    return output\n",
        "\n",
        "\n",
        "demo_lbl = 'https://pds-imaging.jpl.nasa.gov/data/juno/JNOJNC_0010/DATA/EDR/JUPITER/ORBIT_18/JNCE_2019043_18C00001_V01.LBL'\n",
        "print(load_lbl_file(demo_lbl))"
      ],
      "metadata": {
        "colab": {
          "base_uri": "https://localhost:8080/"
        },
        "id": "Kiine9ZW01ko",
        "outputId": "2c08ce95-0be7-4985-e3c0-3986013b2e16"
      },
      "execution_count": null,
      "outputs": [
        {
          "output_type": "stream",
          "name": "stdout",
          "text": [
            "{'PDS_VERSION_ID': 'PDS3', 'RECORD_TYPE': 'FIXED_LENGTH', 'RECORD_BYTES': '1648', 'FILE_RECORDS': '31488', '^IMAGE': '\"JNCE_2019043_18C00001_V01.IMG\"', 'FILE_NAME': '\"JNCE_2019043_18C00001_V01.IMG\"', 'SPACECRAFT_NAME': 'JUNO', 'MISSION_PHASE_NAME': '\"SCIENCE ORBITS\"', 'TARGET_NAME': '\"EUROPA\"', 'INSTRUMENT_ID': '\"JNC\"', 'INSTRUMENT_HOST_NAME': '\"JUNO\"', 'INSTRUMENT_NAME': '\"JUNO EPO CAMERA\"', 'PRODUCER_ID': 'JUNO_JUNOCAM_TEAM', 'DATA_SET_ID': '\"JUNO-J-JUNOCAM-2-EDR-L0-V1.0\"', 'STANDARD_DATA_PRODUCT_ID': '\"JUNOCAM-EDR\"', 'PRODUCT_CREATION_TIME': '2019-04-10T20:36:11', 'PRODUCT_VERSION_ID': '\"01\"', 'PRODUCT_ID': '\"JNCE_2019043_18C00001_V01\"', 'SOURCE_PRODUCT_ID': '\"3D-0900120001-2019-043T16.19.15\"', 'START_TIME': '2019-02-12T07:40:04.384', 'IMAGE_TIME': '2019-02-12T07:40:04.384', 'STOP_TIME': '2019-02-12T07:40:34.806', 'SPACECRAFT_CLOCK_START_COUNT': '\"603229478:75\"', 'SPACECRAFT_CLOCK_STOP_COUNT': '\"N/A\"', 'ORBIT_NUMBER': '18', 'SOFTWARE_NAME': '\"JUNOMAKEPDS.PY 0.7\"', 'PROCESSING_LEVEL_ID': '\"2\"', 'FOCAL_PLANE_TEMPERATURE': '248.2 <K>', 'INTERFRAME_DELAY': '0.371 <s>', 'SUB_SPACECRAFT_LATITUDE': '14.8859', 'SUB_SPACECRAFT_LONGITUDE': '62.6891', 'SPACECRAFT_ALTITUDE': '739020.1 <km>', 'SOLAR_DISTANCE': '7.9845e+08 <km>', 'SAMPLE_BIT_MODE_ID': '\"SQROOT\"', 'EXPOSURE_DURATION': '3.200000 <ms>', 'JNO:TDI_STAGES_COUNT': '1', 'SAMPLING_FACTOR': '1', 'FILTER_NAME': \"('BLUE', 'GREEN', 'RED')\", 'COMPRESSION_TYPE': '\"INTEGER COSINE TRANSFORM\"', 'RATIONALE_DESC': '\"Europa\"', 'OBJECT': 'IMAGE', 'LINES': '31488', 'LINE_SAMPLES': '1648', 'SAMPLE_TYPE': 'UNSIGNED_INTEGER', 'LINE_PREFIX_BYTES': '0', 'LINE_SUFFIX_BYTES': '0', 'SAMPLE_BITS': '8', 'SAMPLE_BIT_MASK': '2#11111111#', 'MD5_CHECKSUM': '\"c2f4c843982d7c1434a7fc22064db079\"', 'END_OBJECT': 'IMAGE'}\n"
          ]
        }
      ]
    },
    {
      "cell_type": "code",
      "source": [],
      "metadata": {
        "id": "E79Neupq5KGC"
      },
      "execution_count": null,
      "outputs": []
    }
  ]
}